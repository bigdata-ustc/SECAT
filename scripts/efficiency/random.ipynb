{
 "cells": [
  {
   "cell_type": "code",
   "execution_count": 5,
   "metadata": {},
   "outputs": [],
   "source": [
    "from annoy import AnnoyIndex\n",
    "import random\n",
    "import json\n",
    "import os\n",
    "path_prefix = os.path.abspath('../../')\n",
    "f = 15  # Length of item vector that will be indexed\n",
    "dataset='assistment'\n",
    "# dataset='ifytek'\n",
    "stg=\"MFI\"\n",
    "cdm='irt'\n",
    "postfix='30'\n",
    "trait = json.load(open(f'{path_prefix}/data/{dataset}/{stg}/ball_trait{postfix}.json', 'r'))\n",
    "query = json.load(open(f'{path_prefix}/data/{dataset}/{stg}/query.json', 'r'))"
   ]
  },
  {
   "cell_type": "code",
   "execution_count": 6,
   "metadata": {},
   "outputs": [
    {
     "name": "stdout",
     "output_type": "stream",
     "text": [
      "0.00013809001192133477\n",
      "0.0002257823944091797\n"
     ]
    }
   ],
   "source": [
    "import numpy as np\n",
    "import time\n",
    "starttime= time.time()\n",
    "times=[]\n",
    "# pts = np.array([[0, 0], [2.1, 2.9]])\n",
    "for qs in query:\n",
    "    for it,q in enumerate(qs):\n",
    "        s_t=time.time()\n",
    "        tmp=[0]\n",
    "        tmp.extend(q)\n",
    "        np.random.randint(len(trait))\n",
    "        # u.get_nns_by_vector(q, it+1, search_k=-1, include_distances=False) \n",
    "        times.append(time.time()-s_t)\n",
    "endtime= time.time()\n",
    "print((endtime-starttime)/len(times)*10)\n",
    "print(max(times))\n",
    "\n"
   ]
  },
  {
   "cell_type": "code",
   "execution_count": 7,
   "metadata": {},
   "outputs": [],
   "source": [
    "import numpy as np\n",
    "import pandas as pd\n",
    "# len(times)\n",
    "s_time=[]\n",
    "tmp=[]\n",
    "for i,t in enumerate(times):\n",
    "    tmp.append(t)\n",
    "    if len(tmp)==10:\n",
    "        s_time.append(tmp)\n",
    "        tmp=[]\n",
    "s_time=np.array(s_time)\n",
    "s_time = np.average(s_time, axis=0, weights=None, returned=False)\n",
    "s_time\n",
    "# s_time/29*47\n",
    "res=[]\n",
    "a_time=0\n",
    "for t in s_time:\n",
    "    # print(t)\n",
    "    # break\n",
    "    a_time+=t\n",
    "    res.append(a_time)\n",
    "# print(s_time.shape)\n",
    "df = pd.DataFrame(res)\n",
    "df = df.transpose()\n",
    "\n",
    "df.to_csv(f'data/random_{dataset}_{stg}.csv')"
   ]
  }
 ],
 "metadata": {
  "kernelspec": {
   "display_name": "exp",
   "language": "python",
   "name": "python3"
  },
  "language_info": {
   "codemirror_mode": {
    "name": "ipython",
    "version": 3
   },
   "file_extension": ".py",
   "mimetype": "text/x-python",
   "name": "python",
   "nbconvert_exporter": "python",
   "pygments_lexer": "ipython3",
   "version": "3.9.12"
  },
  "orig_nbformat": 4,
  "vscode": {
   "interpreter": {
    "hash": "97c92563dc9d5dcdecc6e642868b2bcb8dedc5d10549320d866390cf4828c32c"
   }
  }
 },
 "nbformat": 4,
 "nbformat_minor": 2
}
