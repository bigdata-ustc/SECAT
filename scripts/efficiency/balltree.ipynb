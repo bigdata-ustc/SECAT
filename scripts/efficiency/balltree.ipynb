{
 "cells": [
  {
   "cell_type": "code",
   "execution_count": 3,
   "metadata": {},
   "outputs": [],
   "source": [
    "import json\n",
    "from CAT.mips.ball_tree import BallTree,search_metric_tree_c\n",
    "import numpy as np\n",
    "import time\n",
    "from tqdm import tqdm\n",
    "import heapq\n",
    "import os\n",
    "dataset='assistment'\n",
    "# dataset='ifytek'\n",
    "stg=\"MFI\"\n",
    "cdm='irt'\n",
    "postfix='30'\n",
    "secat=True\n",
    "if secat:\n",
    "    dissimilarity_partition=True\n",
    "    last_leaf=True\n",
    "else:\n",
    "    dissimilarity_partition=False\n",
    "    last_leaf = False\n",
    "path_prefix = os.path.abspath('../../')\n",
    "ball_trait = json.load(open(f\"{path_prefix}/data/{dataset}/{stg}/ball_trait{postfix}.json\", 'r'))\n",
    "item_label = json.load(open(f\"{path_prefix}/data/{dataset}/MFI/item_label.json\", 'r'))\n",
    "query = json.load(open(f'{path_prefix}/data/{dataset}/{stg}/query.json', 'r'))\n",
    "\n",
    "if dataset=='ifytek':\n",
    "    model = BallTree(dict(zip(range(len(ball_trait)),list(zip(item_label,ball_trait)))),dissimilarity_partition=dissimilarity_partition,threshold=15*20)\n",
    "else:\n",
    "    model = BallTree(dict(zip(range(len(ball_trait)),list(zip(item_label,ball_trait)))),dissimilarity_partition=dissimilarity_partition,threshold=20)\n",
    "\n"
   ]
  },
  {
   "cell_type": "code",
   "execution_count": 4,
   "metadata": {},
   "outputs": [
    {
     "name": "stdout",
     "output_type": "stream",
     "text": [
      "0.004262716212171189\n",
      "0.001220703125\n",
      "[33, 33, 13, 13, 13, 13, 13, 13, 13, 13, 33, 33, 13, 13, 13, 13, 13, 13, 13, 13, 33, 33, 13, 13, 13, 13, 13, 13, 13, 13, 33, 33, 13, 13, 13, 13, 13, 13, 13, 13, 33, 33, 13, 13, 13, 13, 13, 13, 13, 13, 33, 33, 13, 13, 13, 13, 13, 13, 13, 13, 33, 33, 13, 13, 13, 13, 13, 13, 13, 13, 33, 33, 13, 13, 13, 13, 13, 13, 13, 13, 33, 33, 13, 13, 13, 13, 13, 13, 13, 13, 33, 33, 13, 13, 13, 13, 13, 13, 13, 13, 33, 33, 13, 13, 13, 13, 13, 13, 13, 13, 33, 33, 13, 13, 13, 13, 13, 13, 13, 13, 33, 33, 13, 13, 13, 13, 13, 13, 13, 13, 33, 33, 13, 13, 13, 13, 13, 13, 13, 13, 33, 33, 13, 13, 13, 13, 13, 13, 13, 13, 33, 33, 13, 13, 13, 13, 13, 13, 13, 13, 33, 33, 13, 13, 13, 13, 13, 13, 13, 13, 33, 33, 13, 13, 13, 13, 13, 13, 13, 13, 33, 33, 13, 13, 13, 13, 13, 13, 13, 13, 33, 33, 13, 13, 13, 13, 13, 13, 13, 13, 33, 33, 13, 13, 13, 13, 13, 13, 13, 13, 33, 33, 13, 13, 13, 13, 13, 13, 13, 13, 33, 33, 13, 13, 13, 13, 13, 13, 13, 13, 33, 33, 13, 13, 13, 13, 13, 13, 13, 13, 33, 33, 13, 13, 13, 13, 13, 13, 13, 13, 33, 33, 13, 13, 13, 13, 13, 13, 13, 13, 33, 33, 13, 13, 13, 13, 13, 13, 13, 13, 33, 33, 13, 13, 13, 13, 13, 13, 13, 13, 33, 33, 13, 13, 13, 13, 13, 13, 13, 13, 33, 33, 13, 13, 13, 13, 13, 13, 13, 13, 33, 33, 13, 13, 13, 13, 13, 13, 13, 13, 33, 33, 13, 13, 13, 13, 13, 13, 13, 13, 33, 33, 13, 13, 13, 13, 13, 13, 13, 13, 33, 33, 13, 13, 13, 13, 13, 13, 13, 13, 33, 33, 13, 13, 13, 13, 13, 13, 13, 13, 33, 33, 13, 13, 13, 13, 13, 13, 13, 13, 33, 33, 13, 13, 13, 13, 13, 13, 13, 13, 33, 33, 33, 33, 33, 33, 33, 33, 33, 33, 33, 33, 13, 13, 13, 13, 13, 13, 13, 13, 33, 33, 13, 13, 13, 13, 13, 13, 13, 13, 33, 33, 13, 13, 13, 13, 13, 13, 13, 13, 33, 33, 13, 13, 13, 13, 13, 13, 13, 13, 33, 33, 13, 13, 13, 13, 13, 13, 13, 13, 33, 33, 13, 13, 13, 13, 13, 13, 13, 13, 33, 33, 13, 13, 13, 13, 13, 13, 13, 13, 33, 33, 13, 13, 13, 13, 13, 13, 13, 13, 33, 33, 13, 13, 13, 13, 13, 13, 13, 13]\n"
     ]
    }
   ],
   "source": [
    "starttime= time.time()\n",
    "efficient = True\n",
    "times=[]\n",
    "counts=[]\n",
    "for qs in query:\n",
    "    tested_set=set()\n",
    "    leaves_candidates=set()\n",
    "    for k,q in enumerate(qs):    \n",
    "        s_t=time.time()\n",
    "        if efficient:\n",
    "            res_q={'qid':-1,'quantity':-1,'leaves':{}}\n",
    "            if last_leaf:\n",
    "                last=False\n",
    "                if k>1:\n",
    "                    for lq in qs[:k-1]:\n",
    "                        tmp_cos = (np.array(q)).dot(np.array(lq)) / (np.linalg.norm(lq) * np.linalg.norm(q))\n",
    "                        if tmp_cos>0.95:\n",
    "                            last=True\n",
    "                # leaves_candidates_inl = list(leaves_candidates-tested_set)\n",
    "                if last:\n",
    "                    tmp_ip = [np.dot(np.array(q), np.array(ball_trait[qid])) for qid in leaves_candidates]\n",
    "                    qip = heapq.nlargest(1, tmp_ip)\n",
    "                    count=len(leaves_candidates)\n",
    "                    # qid = leaves_candidates_inl[list(map(tmp_ip.index, qip))[0]]\n",
    "                else:\n",
    "                    count = search_metric_tree_c(res_q, tested_set,np.array(q),model)\n",
    "                    leaves_candidates.update(set(res_q['leaves'].keys()))\n",
    "                tested_set.add(res_q['qid'])\n",
    "            else:\n",
    "                count = search_metric_tree_c(res_q, tested_set,np.array(q),model)  \n",
    "                tested_set.add(res_q['qid'])\n",
    "            counts.append(count)\n",
    "        else:\n",
    "            tmp = [np.dot(q,i_emb) for i_emb in np.array(ball_trait)]\n",
    "            # print(max(tmp))\n",
    "            qips = heapq.nlargest(k+1, tmp)\n",
    "            qids = list(map(tmp.index, qips))\n",
    "        times.append(time.time()-s_t)\n",
    "endtime= time.time()\n",
    "sec = (endtime - starttime)\n",
    "print(sec/len(times)*10)\n",
    "# print(times)\n",
    "print(max(times))\n",
    "print(counts)"
   ]
  },
  {
   "cell_type": "code",
   "execution_count": 5,
   "metadata": {},
   "outputs": [
    {
     "data": {
      "text/plain": [
       "470"
      ]
     },
     "execution_count": 5,
     "metadata": {},
     "output_type": "execute_result"
    }
   ],
   "source": [
    "len(counts)"
   ]
  },
  {
   "cell_type": "code",
   "execution_count": 6,
   "metadata": {},
   "outputs": [
    {
     "data": {
      "text/plain": [
       "17.340425531914892"
      ]
     },
     "execution_count": 6,
     "metadata": {},
     "output_type": "execute_result"
    }
   ],
   "source": [
    "sum(counts)/len(counts)"
   ]
  },
  {
   "cell_type": "code",
   "execution_count": 7,
   "metadata": {},
   "outputs": [],
   "source": [
    "import numpy as np\n",
    "import pandas as pd\n",
    "# len(times)\n",
    "s_time=[]\n",
    "tmp=[]\n",
    "for i,t in enumerate(times):\n",
    "    tmp.append(t)\n",
    "    if len(tmp)==10:\n",
    "        s_time.append(tmp)\n",
    "        tmp=[]\n",
    "s_time=np.array(s_time)\n",
    "s_time = np.average(s_time, axis=0, weights=None, returned=False)\n",
    "s_time\n",
    "# s_time/29*47\n",
    "res=[]\n",
    "a_time=0\n",
    "for t in s_time:\n",
    "    # print(t)\n",
    "    # break\n",
    "    a_time+=t\n",
    "    res.append(a_time)\n",
    "# print(s_time.shape)\n",
    "df = pd.DataFrame(res)\n",
    "df = df.transpose()\n",
    "\n",
    "if secat:\n",
    "    df.to_csv(f'data/secat_{dataset}_{stg}.csv')\n",
    "else:\n",
    "    df.to_csv(f'data/balltree_{dataset}_{stg}.csv')"
   ]
  },
  {
   "cell_type": "code",
   "execution_count": 8,
   "metadata": {},
   "outputs": [
    {
     "data": {
      "text/html": [
       "<div>\n",
       "<style scoped>\n",
       "    .dataframe tbody tr th:only-of-type {\n",
       "        vertical-align: middle;\n",
       "    }\n",
       "\n",
       "    .dataframe tbody tr th {\n",
       "        vertical-align: top;\n",
       "    }\n",
       "\n",
       "    .dataframe thead th {\n",
       "        text-align: right;\n",
       "    }\n",
       "</style>\n",
       "<table border=\"1\" class=\"dataframe\">\n",
       "  <thead>\n",
       "    <tr style=\"text-align: right;\">\n",
       "      <th></th>\n",
       "      <th>0</th>\n",
       "      <th>1</th>\n",
       "      <th>2</th>\n",
       "      <th>3</th>\n",
       "      <th>4</th>\n",
       "      <th>5</th>\n",
       "      <th>6</th>\n",
       "      <th>7</th>\n",
       "      <th>8</th>\n",
       "      <th>9</th>\n",
       "    </tr>\n",
       "  </thead>\n",
       "  <tbody>\n",
       "    <tr>\n",
       "      <th>0</th>\n",
       "      <td>0.00085</td>\n",
       "      <td>0.00165</td>\n",
       "      <td>0.001862</td>\n",
       "      <td>0.002099</td>\n",
       "      <td>0.002366</td>\n",
       "      <td>0.002671</td>\n",
       "      <td>0.003009</td>\n",
       "      <td>0.00338</td>\n",
       "      <td>0.003785</td>\n",
       "      <td>0.004226</td>\n",
       "    </tr>\n",
       "  </tbody>\n",
       "</table>\n",
       "</div>"
      ],
      "text/plain": [
       "         0        1         2         3         4         5         6  \\\n",
       "0  0.00085  0.00165  0.001862  0.002099  0.002366  0.002671  0.003009   \n",
       "\n",
       "         7         8         9  \n",
       "0  0.00338  0.003785  0.004226  "
      ]
     },
     "execution_count": 8,
     "metadata": {},
     "output_type": "execute_result"
    }
   ],
   "source": [
    "df"
   ]
  }
 ],
 "metadata": {
  "kernelspec": {
   "display_name": "exp",
   "language": "python",
   "name": "python3"
  },
  "language_info": {
   "codemirror_mode": {
    "name": "ipython",
    "version": 3
   },
   "file_extension": ".py",
   "mimetype": "text/x-python",
   "name": "python",
   "nbconvert_exporter": "python",
   "pygments_lexer": "ipython3",
   "version": "3.9.12"
  },
  "orig_nbformat": 4,
  "vscode": {
   "interpreter": {
    "hash": "97c92563dc9d5dcdecc6e642868b2bcb8dedc5d10549320d866390cf4828c32c"
   }
  }
 },
 "nbformat": 4,
 "nbformat_minor": 2
}
