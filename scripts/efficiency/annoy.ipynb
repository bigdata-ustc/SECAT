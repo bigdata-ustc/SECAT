{
 "cells": [
  {
   "cell_type": "code",
   "execution_count": 19,
   "metadata": {},
   "outputs": [
    {
     "data": {
      "text/plain": [
       "True"
      ]
     },
     "execution_count": 19,
     "metadata": {},
     "output_type": "execute_result"
    }
   ],
   "source": [
    "from annoy import AnnoyIndex\n",
    "import random\n",
    "import json\n",
    "import os\n",
    "f = 15  # Length of item vector that will be indexed\n",
    "dataset='assistment'\n",
    "stg=\"MFI\"\n",
    "cdm='irt'\n",
    "postfix='30'\n",
    "path_prefix = os.path.abspath('../../')\n",
    "trait = json.load(open(f'{path_prefix}/data/{dataset}/{stg}/ball_trait{postfix}.json', 'r'))\n",
    "query = json.load(open(f'{path_prefix}/data/{dataset}/{stg}/query.json', 'r'))\n",
    "# with open(f'{path_prefix}/data/query.json', \"w\", encoding=\"utf-8\") as f:\n",
    "            # f.write(json.dumps(logs, ensure_ascii=False))\n",
    "# trait=np.array(trait).astype('float32')\n",
    "# query=np.array(query).astype('float32')\n",
    "t = AnnoyIndex(f, 'dot')\n",
    "for i,v in enumerate(trait):\n",
    "    # v = [random.gauss(0, 1) for z in range(f)]\n",
    "    t.add_item(i, v)\n",
    "# print(t)\n",
    "t.build(10) # 10 trees\n",
    "t.save('test.ann')\n",
    "\n",
    "\n",
    "u = AnnoyIndex(f, 'dot')\n",
    "u.load('test.ann') # super fast, will just mmap the file\n",
    "# print(u.get_nns_by_item(0, 1000))"
   ]
  },
  {
   "cell_type": "code",
   "execution_count": null,
   "metadata": {},
   "outputs": [],
   "source": [
    "query"
   ]
  },
  {
   "cell_type": "code",
   "execution_count": 21,
   "metadata": {},
   "outputs": [
    {
     "name": "stdout",
     "output_type": "stream",
     "text": [
      "0.00014304607472521194\n",
      "0.0007207393646240234\n"
     ]
    }
   ],
   "source": [
    "import time\n",
    "starttime= time.time()\n",
    "times=[]\n",
    "# s_time=[]\n",
    "for qs in query:\n",
    "    for it,q in enumerate(qs):\n",
    "        s_t=time.time()\n",
    "        u.get_nns_by_vector(q, it+1, search_k=-1, include_distances=False) \n",
    "        times.append(time.time()-s_t)\n",
    "endtime= time.time()\n",
    "print((endtime-starttime)/len(times)*10)\n",
    "print(max(times))\n"
   ]
  },
  {
   "cell_type": "code",
   "execution_count": 24,
   "metadata": {},
   "outputs": [],
   "source": [
    "import numpy as np\n",
    "import pandas as pd\n",
    "# len(times)\n",
    "s_time=[]\n",
    "tmp=[]\n",
    "for i,t in enumerate(times):\n",
    "    tmp.append(t)\n",
    "    if len(tmp)==10:\n",
    "        s_time.append(tmp)\n",
    "        tmp=[]\n",
    "s_time=np.array(s_time)\n",
    "s_time = np.average(s_time, axis=0, weights=None, returned=False)\n",
    "s_time\n",
    "# s_time/29*47\n",
    "res=[]\n",
    "a_time=0\n",
    "for t in s_time:\n",
    "    # print(t)\n",
    "    # break\n",
    "    a_time+=t\n",
    "    res.append(a_time)\n",
    "# print(s_time.shape)\n",
    "df = pd.DataFrame(res)\n",
    "df = df.transpose()\n",
    "\n",
    "df.to_csv(f'data/annoy_{dataset}_{stg}.csv')"
   ]
  },
  {
   "cell_type": "code",
   "execution_count": null,
   "metadata": {},
   "outputs": [
    {
     "data": {
      "text/html": [
       "<div>\n",
       "<style scoped>\n",
       "    .dataframe tbody tr th:only-of-type {\n",
       "        vertical-align: middle;\n",
       "    }\n",
       "\n",
       "    .dataframe tbody tr th {\n",
       "        vertical-align: top;\n",
       "    }\n",
       "\n",
       "    .dataframe thead th {\n",
       "        text-align: right;\n",
       "    }\n",
       "</style>\n",
       "<table border=\"1\" class=\"dataframe\">\n",
       "  <thead>\n",
       "    <tr style=\"text-align: right;\">\n",
       "      <th></th>\n",
       "      <th>0</th>\n",
       "      <th>1</th>\n",
       "      <th>2</th>\n",
       "      <th>3</th>\n",
       "      <th>4</th>\n",
       "      <th>5</th>\n",
       "      <th>6</th>\n",
       "      <th>7</th>\n",
       "      <th>8</th>\n",
       "      <th>9</th>\n",
       "    </tr>\n",
       "  </thead>\n",
       "  <tbody>\n",
       "    <tr>\n",
       "      <th>0</th>\n",
       "      <td>0.052839</td>\n",
       "      <td>0.06279</td>\n",
       "      <td>0.064163</td>\n",
       "      <td>0.064602</td>\n",
       "      <td>0.065113</td>\n",
       "      <td>0.065611</td>\n",
       "      <td>0.06563</td>\n",
       "      <td>0.06621</td>\n",
       "      <td>0.066703</td>\n",
       "      <td>0.067027</td>\n",
       "    </tr>\n",
       "  </tbody>\n",
       "</table>\n",
       "</div>"
      ],
      "text/plain": [
       "          0        1         2         3         4         5        6  \\\n",
       "0  0.052839  0.06279  0.064163  0.064602  0.065113  0.065611  0.06563   \n",
       "\n",
       "         7         8         9  \n",
       "0  0.06621  0.066703  0.067027  "
      ]
     },
     "execution_count": 5,
     "metadata": {},
     "output_type": "execute_result"
    }
   ],
   "source": [
    "df"
   ]
  }
 ],
 "metadata": {
  "kernelspec": {
   "display_name": "exp",
   "language": "python",
   "name": "python3"
  },
  "language_info": {
   "codemirror_mode": {
    "name": "ipython",
    "version": 3
   },
   "file_extension": ".py",
   "mimetype": "text/x-python",
   "name": "python",
   "nbconvert_exporter": "python",
   "pygments_lexer": "ipython3",
   "version": "3.9.12"
  },
  "orig_nbformat": 4,
  "vscode": {
   "interpreter": {
    "hash": "97c92563dc9d5dcdecc6e642868b2bcb8dedc5d10549320d866390cf4828c32c"
   }
  }
 },
 "nbformat": 4,
 "nbformat_minor": 2
}
